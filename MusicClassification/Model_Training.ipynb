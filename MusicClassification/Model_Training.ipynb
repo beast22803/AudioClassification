{
 "cells": [
  {
   "cell_type": "code",
   "execution_count": 1,
   "metadata": {},
   "outputs": [],
   "source": [
    "import json\n",
    "import numpy as np\n",
    "from sklearn.model_selection import train_test_split\n",
    "import tensorflow.keras as keras\n",
    "from tensorflow.keras.layers import Flatten, Dense, Dropout\n",
    "import matplotlib.pyplot as plt"
   ]
  },
  {
   "cell_type": "code",
   "execution_count": 2,
   "metadata": {},
   "outputs": [],
   "source": [
    "def load_data(dataset_path):\n",
    "    with open(dataset_path, 'r') as fp:\n",
    "        data = json.load(fp)\n",
    "    \n",
    "    inputs = np.array(data[\"mfcc\"])\n",
    "    targets = np.array(data[\"labels\"])\n",
    "\n",
    "    return inputs, targets"
   ]
  },
  {
   "cell_type": "code",
   "execution_count": 3,
   "metadata": {},
   "outputs": [],
   "source": [
    " # Load dataset\n",
    "inputs, targets = load_data(\"Data.json\")\n",
    "\n",
    "# Split the dataset into training and testing sets\n",
    "x_train, x_test, y_train, y_test = train_test_split(inputs, targets, test_size=0.3)"
   ]
  },
  {
   "cell_type": "code",
   "execution_count": 4,
   "metadata": {},
   "outputs": [],
   "source": [
    "model = keras.Sequential([\n",
    "    # Input layer\n",
    "    Flatten(input_shape=(inputs.shape[1], inputs.shape[2])),\n",
    "    # Hidden layers\n",
    "    Dense(512, activation='relu', kernel_regularizer=keras.regularizers.l2(0.001)),\n",
    "    Dropout(0.3),\n",
    "    Dense(256, activation='relu', kernel_regularizer=keras.regularizers.l2(0.001)),\n",
    "    Dropout(0.3),\n",
    "    Dense(64, activation='relu', kernel_regularizer=keras.regularizers.l2(0.001)),\n",
    "    Dropout(0.3),\n",
    "    # Output layer\n",
    "    Dense(len(np.unique(targets)), activation='softmax')\n",
    "])"
   ]
  },
  {
   "cell_type": "code",
   "execution_count": 5,
   "metadata": {},
   "outputs": [
    {
     "name": "stderr",
     "output_type": "stream",
     "text": [
      "WARNING:absl:At this time, the v2.11+ optimizer `tf.keras.optimizers.Adam` runs slowly on M1/M2 Macs, please use the legacy Keras optimizer instead, located at `tf.keras.optimizers.legacy.Adam`.\n"
     ]
    }
   ],
   "source": [
    "optimiser = keras.optimizers.Adam(learning_rate=0.0001)"
   ]
  },
  {
   "cell_type": "code",
   "execution_count": 6,
   "metadata": {},
   "outputs": [],
   "source": [
    "# Compile the model\n",
    "model.compile(optimizer=optimiser, loss='sparse_categorical_crossentropy', metrics=['accuracy'])"
   ]
  },
  {
   "cell_type": "code",
   "execution_count": 7,
   "metadata": {},
   "outputs": [
    {
     "name": "stdout",
     "output_type": "stream",
     "text": [
      "Model: \"sequential\"\n",
      "_________________________________________________________________\n",
      " Layer (type)                Output Shape              Param #   \n",
      "=================================================================\n",
      " flatten (Flatten)           (None, 1690)              0         \n",
      "                                                                 \n",
      " dense (Dense)               (None, 512)               865792    \n",
      "                                                                 \n",
      " dropout (Dropout)           (None, 512)               0         \n",
      "                                                                 \n",
      " dense_1 (Dense)             (None, 256)               131328    \n",
      "                                                                 \n",
      " dropout_1 (Dropout)         (None, 256)               0         \n",
      "                                                                 \n",
      " dense_2 (Dense)             (None, 64)                16448     \n",
      "                                                                 \n",
      " dropout_2 (Dropout)         (None, 64)                0         \n",
      "                                                                 \n",
      " dense_3 (Dense)             (None, 10)                650       \n",
      "                                                                 \n",
      "=================================================================\n",
      "Total params: 1014218 (3.87 MB)\n",
      "Trainable params: 1014218 (3.87 MB)\n",
      "Non-trainable params: 0 (0.00 Byte)\n",
      "_________________________________________________________________\n"
     ]
    }
   ],
   "source": [
    "# Model Summary\n",
    "model.summary()"
   ]
  },
  {
   "cell_type": "code",
   "execution_count": 11,
   "metadata": {},
   "outputs": [
    {
     "name": "stdout",
     "output_type": "stream",
     "text": [
      "Epoch 1/100\n",
      "219/219 [==============================] - 2s 11ms/step - loss: 2.9406 - accuracy: 0.2943 - val_loss: 2.8662 - val_accuracy: 0.3368\n",
      "Epoch 2/100\n",
      "219/219 [==============================] - 2s 11ms/step - loss: 2.8947 - accuracy: 0.2941 - val_loss: 2.8119 - val_accuracy: 0.3441\n",
      "Epoch 3/100\n",
      "219/219 [==============================] - 2s 9ms/step - loss: 2.8614 - accuracy: 0.2940 - val_loss: 2.7511 - val_accuracy: 0.3528\n",
      "Epoch 4/100\n",
      "219/219 [==============================] - 2s 9ms/step - loss: 2.8096 - accuracy: 0.3067 - val_loss: 2.7094 - val_accuracy: 0.3405\n",
      "Epoch 5/100\n",
      "219/219 [==============================] - 2s 9ms/step - loss: 2.7950 - accuracy: 0.3030 - val_loss: 2.6882 - val_accuracy: 0.3525\n",
      "Epoch 6/100\n",
      "219/219 [==============================] - 2s 9ms/step - loss: 2.7423 - accuracy: 0.3062 - val_loss: 2.6763 - val_accuracy: 0.3635\n",
      "Epoch 7/100\n",
      "219/219 [==============================] - 2s 10ms/step - loss: 2.7157 - accuracy: 0.3136 - val_loss: 2.6192 - val_accuracy: 0.3585\n",
      "Epoch 8/100\n",
      "219/219 [==============================] - 2s 8ms/step - loss: 2.7021 - accuracy: 0.3182 - val_loss: 2.5833 - val_accuracy: 0.3688\n",
      "Epoch 9/100\n",
      "219/219 [==============================] - 2s 8ms/step - loss: 2.6560 - accuracy: 0.3175 - val_loss: 2.5773 - val_accuracy: 0.3665\n",
      "Epoch 10/100\n",
      "219/219 [==============================] - 2s 8ms/step - loss: 2.6253 - accuracy: 0.3282 - val_loss: 2.5401 - val_accuracy: 0.3788\n",
      "Epoch 11/100\n",
      "219/219 [==============================] - 2s 8ms/step - loss: 2.5821 - accuracy: 0.3306 - val_loss: 2.5298 - val_accuracy: 0.3368\n",
      "Epoch 12/100\n",
      "219/219 [==============================] - 2s 8ms/step - loss: 2.5548 - accuracy: 0.3413 - val_loss: 2.4712 - val_accuracy: 0.3728\n",
      "Epoch 13/100\n",
      "219/219 [==============================] - 2s 11ms/step - loss: 2.5034 - accuracy: 0.3522 - val_loss: 2.4319 - val_accuracy: 0.3909\n",
      "Epoch 14/100\n",
      "219/219 [==============================] - 2s 9ms/step - loss: 2.4756 - accuracy: 0.3594 - val_loss: 2.4044 - val_accuracy: 0.3999\n",
      "Epoch 15/100\n",
      "219/219 [==============================] - 2s 9ms/step - loss: 2.4187 - accuracy: 0.3672 - val_loss: 2.3792 - val_accuracy: 0.4019\n",
      "Epoch 16/100\n",
      "219/219 [==============================] - 2s 9ms/step - loss: 2.3865 - accuracy: 0.3783 - val_loss: 2.3352 - val_accuracy: 0.4005\n",
      "Epoch 17/100\n",
      "219/219 [==============================] - 2s 9ms/step - loss: 2.3620 - accuracy: 0.3887 - val_loss: 2.3156 - val_accuracy: 0.4206\n",
      "Epoch 18/100\n",
      "219/219 [==============================] - 2s 9ms/step - loss: 2.3303 - accuracy: 0.3881 - val_loss: 2.3024 - val_accuracy: 0.4139\n",
      "Epoch 19/100\n",
      "219/219 [==============================] - 2s 9ms/step - loss: 2.3026 - accuracy: 0.3986 - val_loss: 2.2593 - val_accuracy: 0.4219\n",
      "Epoch 20/100\n",
      "219/219 [==============================] - 2s 9ms/step - loss: 2.2532 - accuracy: 0.4053 - val_loss: 2.2605 - val_accuracy: 0.4149\n",
      "Epoch 21/100\n",
      "219/219 [==============================] - 2s 9ms/step - loss: 2.2186 - accuracy: 0.4069 - val_loss: 2.2109 - val_accuracy: 0.4419\n",
      "Epoch 22/100\n",
      "219/219 [==============================] - 2s 8ms/step - loss: 2.1840 - accuracy: 0.4133 - val_loss: 2.1765 - val_accuracy: 0.4543\n",
      "Epoch 23/100\n",
      "219/219 [==============================] - 2s 9ms/step - loss: 2.1577 - accuracy: 0.4299 - val_loss: 2.1556 - val_accuracy: 0.4453\n",
      "Epoch 24/100\n",
      "219/219 [==============================] - 2s 9ms/step - loss: 2.1400 - accuracy: 0.4239 - val_loss: 2.1479 - val_accuracy: 0.4369\n",
      "Epoch 25/100\n",
      "219/219 [==============================] - 2s 9ms/step - loss: 2.0817 - accuracy: 0.4428 - val_loss: 2.1198 - val_accuracy: 0.4419\n",
      "Epoch 26/100\n",
      "219/219 [==============================] - 2s 9ms/step - loss: 2.0494 - accuracy: 0.4432 - val_loss: 2.0857 - val_accuracy: 0.4513\n",
      "Epoch 27/100\n",
      "219/219 [==============================] - 2s 9ms/step - loss: 2.0315 - accuracy: 0.4458 - val_loss: 2.0524 - val_accuracy: 0.4586\n",
      "Epoch 28/100\n",
      "219/219 [==============================] - 2s 9ms/step - loss: 2.0199 - accuracy: 0.4504 - val_loss: 2.0356 - val_accuracy: 0.4616\n",
      "Epoch 29/100\n",
      "219/219 [==============================] - 2s 9ms/step - loss: 1.9849 - accuracy: 0.4512 - val_loss: 2.0484 - val_accuracy: 0.4499\n",
      "Epoch 30/100\n",
      "219/219 [==============================] - 2s 9ms/step - loss: 1.9502 - accuracy: 0.4667 - val_loss: 2.0234 - val_accuracy: 0.4616\n",
      "Epoch 31/100\n",
      "219/219 [==============================] - 2s 9ms/step - loss: 1.9279 - accuracy: 0.4770 - val_loss: 1.9969 - val_accuracy: 0.4670\n",
      "Epoch 32/100\n",
      "219/219 [==============================] - 2s 9ms/step - loss: 1.9043 - accuracy: 0.4798 - val_loss: 1.9878 - val_accuracy: 0.4733\n",
      "Epoch 33/100\n",
      "219/219 [==============================] - 2s 9ms/step - loss: 1.8843 - accuracy: 0.4823 - val_loss: 1.9729 - val_accuracy: 0.4720\n",
      "Epoch 34/100\n",
      "219/219 [==============================] - 2s 9ms/step - loss: 1.8278 - accuracy: 0.4934 - val_loss: 1.9631 - val_accuracy: 0.4770\n",
      "Epoch 35/100\n",
      "219/219 [==============================] - 2s 9ms/step - loss: 1.8054 - accuracy: 0.5016 - val_loss: 1.9419 - val_accuracy: 0.4790\n",
      "Epoch 36/100\n",
      "219/219 [==============================] - 2s 8ms/step - loss: 1.7805 - accuracy: 0.5110 - val_loss: 1.9230 - val_accuracy: 0.4733\n",
      "Epoch 37/100\n",
      "219/219 [==============================] - 2s 9ms/step - loss: 1.7667 - accuracy: 0.5104 - val_loss: 1.9222 - val_accuracy: 0.4846\n",
      "Epoch 38/100\n",
      "219/219 [==============================] - 2s 9ms/step - loss: 1.7424 - accuracy: 0.5200 - val_loss: 1.9932 - val_accuracy: 0.4716\n",
      "Epoch 39/100\n",
      "219/219 [==============================] - 2s 9ms/step - loss: 1.7059 - accuracy: 0.5316 - val_loss: 1.9438 - val_accuracy: 0.4833\n",
      "Epoch 40/100\n",
      "219/219 [==============================] - 2s 9ms/step - loss: 1.7063 - accuracy: 0.5273 - val_loss: 1.8869 - val_accuracy: 0.4716\n",
      "Epoch 41/100\n",
      "219/219 [==============================] - 2s 9ms/step - loss: 1.6568 - accuracy: 0.5379 - val_loss: 1.8667 - val_accuracy: 0.4907\n",
      "Epoch 42/100\n",
      "219/219 [==============================] - 2s 9ms/step - loss: 1.6563 - accuracy: 0.5383 - val_loss: 1.8359 - val_accuracy: 0.5057\n",
      "Epoch 43/100\n",
      "219/219 [==============================] - 2s 9ms/step - loss: 1.6258 - accuracy: 0.5451 - val_loss: 1.8423 - val_accuracy: 0.4930\n",
      "Epoch 44/100\n",
      "219/219 [==============================] - 2s 9ms/step - loss: 1.6037 - accuracy: 0.5585 - val_loss: 1.8781 - val_accuracy: 0.4960\n",
      "Epoch 45/100\n",
      "219/219 [==============================] - 2s 9ms/step - loss: 1.5796 - accuracy: 0.5671 - val_loss: 1.8706 - val_accuracy: 0.4953\n",
      "Epoch 46/100\n",
      "219/219 [==============================] - 2s 9ms/step - loss: 1.5533 - accuracy: 0.5695 - val_loss: 1.8573 - val_accuracy: 0.4736\n",
      "Epoch 47/100\n",
      "219/219 [==============================] - 2s 9ms/step - loss: 1.5274 - accuracy: 0.5682 - val_loss: 1.8394 - val_accuracy: 0.4887\n",
      "Epoch 48/100\n",
      "219/219 [==============================] - 2s 9ms/step - loss: 1.5437 - accuracy: 0.5711 - val_loss: 1.8150 - val_accuracy: 0.4950\n",
      "Epoch 49/100\n",
      "219/219 [==============================] - 2s 8ms/step - loss: 1.5035 - accuracy: 0.5794 - val_loss: 1.8502 - val_accuracy: 0.4997\n",
      "Epoch 50/100\n",
      "219/219 [==============================] - 2s 10ms/step - loss: 1.4824 - accuracy: 0.5870 - val_loss: 1.8390 - val_accuracy: 0.5113\n",
      "Epoch 51/100\n",
      "219/219 [==============================] - 2s 10ms/step - loss: 1.4657 - accuracy: 0.5956 - val_loss: 1.8223 - val_accuracy: 0.5100\n",
      "Epoch 52/100\n",
      "219/219 [==============================] - 2s 9ms/step - loss: 1.4491 - accuracy: 0.5960 - val_loss: 1.7668 - val_accuracy: 0.5134\n",
      "Epoch 53/100\n",
      "219/219 [==============================] - 2s 9ms/step - loss: 1.4173 - accuracy: 0.5997 - val_loss: 1.7969 - val_accuracy: 0.5160\n",
      "Epoch 54/100\n",
      "219/219 [==============================] - 2s 8ms/step - loss: 1.4120 - accuracy: 0.6109 - val_loss: 1.8104 - val_accuracy: 0.5377\n",
      "Epoch 55/100\n",
      "219/219 [==============================] - 2s 8ms/step - loss: 1.3851 - accuracy: 0.6159 - val_loss: 1.7747 - val_accuracy: 0.5280\n",
      "Epoch 56/100\n",
      "219/219 [==============================] - 2s 8ms/step - loss: 1.3907 - accuracy: 0.6143 - val_loss: 1.7529 - val_accuracy: 0.5207\n",
      "Epoch 57/100\n",
      "219/219 [==============================] - 2s 8ms/step - loss: 1.3655 - accuracy: 0.6249 - val_loss: 1.7924 - val_accuracy: 0.5354\n",
      "Epoch 58/100\n",
      "219/219 [==============================] - 2s 8ms/step - loss: 1.3325 - accuracy: 0.6298 - val_loss: 1.7988 - val_accuracy: 0.5344\n",
      "Epoch 59/100\n",
      "219/219 [==============================] - 2s 8ms/step - loss: 1.3113 - accuracy: 0.6328 - val_loss: 1.7741 - val_accuracy: 0.5360\n",
      "Epoch 60/100\n",
      "219/219 [==============================] - 2s 8ms/step - loss: 1.3182 - accuracy: 0.6492 - val_loss: 1.7462 - val_accuracy: 0.5464\n",
      "Epoch 61/100\n",
      "219/219 [==============================] - 2s 8ms/step - loss: 1.2980 - accuracy: 0.6455 - val_loss: 1.7698 - val_accuracy: 0.5327\n",
      "Epoch 62/100\n",
      "219/219 [==============================] - 2s 8ms/step - loss: 1.2738 - accuracy: 0.6495 - val_loss: 1.7314 - val_accuracy: 0.5421\n",
      "Epoch 63/100\n",
      "219/219 [==============================] - 2s 8ms/step - loss: 1.2601 - accuracy: 0.6585 - val_loss: 1.7518 - val_accuracy: 0.5310\n",
      "Epoch 64/100\n",
      "219/219 [==============================] - 2s 8ms/step - loss: 1.2442 - accuracy: 0.6598 - val_loss: 1.7230 - val_accuracy: 0.5554\n",
      "Epoch 65/100\n",
      "219/219 [==============================] - 2s 8ms/step - loss: 1.2253 - accuracy: 0.6768 - val_loss: 1.7367 - val_accuracy: 0.5447\n",
      "Epoch 66/100\n",
      "219/219 [==============================] - 2s 8ms/step - loss: 1.2129 - accuracy: 0.6708 - val_loss: 1.7768 - val_accuracy: 0.5527\n",
      "Epoch 67/100\n",
      "219/219 [==============================] - 2s 8ms/step - loss: 1.2000 - accuracy: 0.6794 - val_loss: 1.7658 - val_accuracy: 0.5517\n",
      "Epoch 68/100\n",
      "219/219 [==============================] - 2s 8ms/step - loss: 1.1875 - accuracy: 0.6821 - val_loss: 1.7528 - val_accuracy: 0.5547\n",
      "Epoch 69/100\n",
      "219/219 [==============================] - 2s 8ms/step - loss: 1.1602 - accuracy: 0.6947 - val_loss: 1.8398 - val_accuracy: 0.5674\n",
      "Epoch 70/100\n",
      "219/219 [==============================] - 2s 10ms/step - loss: 1.1483 - accuracy: 0.6971 - val_loss: 1.7539 - val_accuracy: 0.5611\n",
      "Epoch 71/100\n",
      "219/219 [==============================] - 2s 9ms/step - loss: 1.1514 - accuracy: 0.6959 - val_loss: 1.7256 - val_accuracy: 0.5594\n",
      "Epoch 72/100\n",
      "219/219 [==============================] - 2s 8ms/step - loss: 1.1330 - accuracy: 0.6937 - val_loss: 1.7349 - val_accuracy: 0.5674\n",
      "Epoch 73/100\n",
      "219/219 [==============================] - 2s 9ms/step - loss: 1.1395 - accuracy: 0.7030 - val_loss: 1.7814 - val_accuracy: 0.5337\n",
      "Epoch 74/100\n",
      "219/219 [==============================] - 2s 8ms/step - loss: 1.1145 - accuracy: 0.7079 - val_loss: 1.7817 - val_accuracy: 0.5661\n",
      "Epoch 75/100\n",
      "219/219 [==============================] - 2s 8ms/step - loss: 1.1180 - accuracy: 0.7063 - val_loss: 1.7616 - val_accuracy: 0.5584\n",
      "Epoch 76/100\n",
      "219/219 [==============================] - 2s 8ms/step - loss: 1.0993 - accuracy: 0.7142 - val_loss: 1.8272 - val_accuracy: 0.5621\n",
      "Epoch 77/100\n",
      "219/219 [==============================] - 2s 8ms/step - loss: 1.0755 - accuracy: 0.7163 - val_loss: 1.8545 - val_accuracy: 0.5674\n",
      "Epoch 78/100\n",
      "219/219 [==============================] - 2s 8ms/step - loss: 1.0602 - accuracy: 0.7227 - val_loss: 1.8088 - val_accuracy: 0.5554\n",
      "Epoch 79/100\n",
      "219/219 [==============================] - 2s 8ms/step - loss: 1.0768 - accuracy: 0.7172 - val_loss: 1.8243 - val_accuracy: 0.5751\n",
      "Epoch 80/100\n",
      "219/219 [==============================] - 2s 8ms/step - loss: 1.0709 - accuracy: 0.7250 - val_loss: 1.7422 - val_accuracy: 0.5734\n",
      "Epoch 81/100\n",
      "219/219 [==============================] - 2s 8ms/step - loss: 1.0404 - accuracy: 0.7326 - val_loss: 1.7520 - val_accuracy: 0.5768\n",
      "Epoch 82/100\n",
      "219/219 [==============================] - 2s 8ms/step - loss: 1.0474 - accuracy: 0.7278 - val_loss: 1.7425 - val_accuracy: 0.5831\n",
      "Epoch 83/100\n",
      "219/219 [==============================] - 2s 8ms/step - loss: 1.0154 - accuracy: 0.7396 - val_loss: 1.7587 - val_accuracy: 0.5844\n",
      "Epoch 84/100\n",
      "219/219 [==============================] - 2s 8ms/step - loss: 1.0087 - accuracy: 0.7418 - val_loss: 1.7477 - val_accuracy: 0.5728\n",
      "Epoch 85/100\n",
      "219/219 [==============================] - 2s 8ms/step - loss: 1.0027 - accuracy: 0.7392 - val_loss: 1.8361 - val_accuracy: 0.5748\n",
      "Epoch 86/100\n",
      "219/219 [==============================] - 2s 8ms/step - loss: 0.9990 - accuracy: 0.7423 - val_loss: 1.7903 - val_accuracy: 0.5908\n",
      "Epoch 87/100\n",
      "219/219 [==============================] - 2s 8ms/step - loss: 1.0018 - accuracy: 0.7439 - val_loss: 1.7457 - val_accuracy: 0.5861\n",
      "Epoch 88/100\n",
      "219/219 [==============================] - 2s 8ms/step - loss: 0.9717 - accuracy: 0.7502 - val_loss: 1.7231 - val_accuracy: 0.5818\n",
      "Epoch 89/100\n",
      "219/219 [==============================] - 2s 8ms/step - loss: 0.9742 - accuracy: 0.7541 - val_loss: 1.7692 - val_accuracy: 0.5854\n",
      "Epoch 90/100\n",
      "219/219 [==============================] - 2s 8ms/step - loss: 0.9662 - accuracy: 0.7581 - val_loss: 1.7664 - val_accuracy: 0.5771\n",
      "Epoch 91/100\n",
      "219/219 [==============================] - 2s 8ms/step - loss: 0.9735 - accuracy: 0.7516 - val_loss: 1.7478 - val_accuracy: 0.5714\n",
      "Epoch 92/100\n",
      "219/219 [==============================] - 2s 8ms/step - loss: 0.9506 - accuracy: 0.7632 - val_loss: 1.7913 - val_accuracy: 0.5911\n",
      "Epoch 93/100\n",
      "219/219 [==============================] - 2s 8ms/step - loss: 0.9305 - accuracy: 0.7619 - val_loss: 1.7866 - val_accuracy: 0.5808\n",
      "Epoch 94/100\n",
      "219/219 [==============================] - 2s 9ms/step - loss: 0.9363 - accuracy: 0.7598 - val_loss: 1.8090 - val_accuracy: 0.5798\n",
      "Epoch 95/100\n",
      "219/219 [==============================] - 2s 8ms/step - loss: 0.8988 - accuracy: 0.7731 - val_loss: 1.8027 - val_accuracy: 0.5781\n",
      "Epoch 96/100\n",
      "219/219 [==============================] - 2s 8ms/step - loss: 0.9022 - accuracy: 0.7760 - val_loss: 1.8046 - val_accuracy: 0.5928\n",
      "Epoch 97/100\n",
      "219/219 [==============================] - 2s 8ms/step - loss: 0.9131 - accuracy: 0.7738 - val_loss: 1.7588 - val_accuracy: 0.5844\n",
      "Epoch 98/100\n",
      "219/219 [==============================] - 2s 8ms/step - loss: 0.9090 - accuracy: 0.7705 - val_loss: 1.8289 - val_accuracy: 0.5991\n",
      "Epoch 99/100\n",
      "219/219 [==============================] - 2s 9ms/step - loss: 0.8802 - accuracy: 0.7771 - val_loss: 1.8067 - val_accuracy: 0.5885\n",
      "Epoch 100/100\n",
      "219/219 [==============================] - 2s 9ms/step - loss: 0.8695 - accuracy: 0.7820 - val_loss: 1.7849 - val_accuracy: 0.5945\n"
     ]
    }
   ],
   "source": [
    "history = model.fit(x_train, y_train, epochs=100, batch_size=32, validation_data=(x_test, y_test))"
   ]
  },
  {
   "cell_type": "code",
   "execution_count": 12,
   "metadata": {},
   "outputs": [
    {
     "data": {
      "image/png": "[encoded data removed]",
      "text/plain": [
       "<Figure size 640x480 with 2 Axes>"
      ]
     },
     "metadata": {},
     "output_type": "display_data"
    }
   ],
   "source": [
    "fig, axs = plt.subplots(2)\n",
    "\n",
    "# create accuracy sublpot\n",
    "axs[0].plot(history.history[\"accuracy\"], label=\"train accuracy\")\n",
    "axs[0].plot(history.history[\"val_accuracy\"], label=\"test accuracy\")\n",
    "axs[0].set_ylabel(\"Accuracy\")\n",
    "axs[0].legend(loc=\"lower right\")\n",
    "axs[0].set_title(\"Accuracy eval\")\n",
    "\n",
    "# create error sublpot\n",
    "axs[1].plot(history.history[\"loss\"], label=\"train error\")\n",
    "axs[1].plot(history.history[\"val_loss\"], label=\"test error\")\n",
    "axs[1].set_ylabel(\"Error\")\n",
    "axs[1].set_xlabel(\"Epoch\")\n",
    "axs[1].legend(loc=\"upper right\")\n",
    "axs[1].set_title(\"Error eval\")\n",
    "\n",
    "plt.show()"
   ]
  },
  {
   "cell_type": "code",
   "execution_count": 13,
   "metadata": {},
   "outputs": [
    {
     "name": "stdout",
     "output_type": "stream",
     "text": [
      "0.5944592952728271\n"
     ]
    }
   ],
   "source": [
    "test_accuracy=model.evaluate(x_test,y_test,verbose=0)\n",
    "print(test_accuracy[1])"
   ]
  },
  {
   "cell_type": "code",
   "execution_count": null,
   "metadata": {},
   "outputs": [],
   "source": []
  },
  {
   "cell_type": "code",
   "execution_count": null,
   "metadata": {},
   "outputs": [],
   "source": []
  }
 ],
 "metadata": {
  "kernelspec": {
   "display_name": "Python 3",
   "language": "python",
   "name": "python3"
  },
  "language_info": {
   "codemirror_mode": {
    "name": "ipython",
    "version": 3
   },
   "file_extension": ".py",
   "mimetype": "text/x-python",
   "name": "python",
   "nbconvert_exporter": "python",
   "pygments_lexer": "ipython3",
   "version": "3.9.6"
  }
 },
 "nbformat": 4,
 "nbformat_minor": 2
}
